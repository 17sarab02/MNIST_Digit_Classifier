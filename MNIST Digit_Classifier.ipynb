{
  "cells": [
    {
      "cell_type": "markdown",
      "metadata": {
        "id": "vMgDGQIuUX9P"
      },
      "source": [
        "### **IMPORTING LIBRARIES**"
      ]
    },
    {
      "cell_type": "code",
      "execution_count": 1,
      "metadata": {
        "id": "uRaEguXaULcr"
      },
      "outputs": [],
      "source": [
        "#LIBRARY FOR MANIPULATING CHARTS/GRAPHS/FIGURES\n",
        "import matplotlib.pyplot as plt\n",
        "\n",
        "#LIBRARY FOR PLOTTING CHARTS/GRAPHS/FIGURES\n",
        "import seaborn as sns\n",
        "\n",
        "#LIBRARY FOR DATAFRAME MANIPULATION\n",
        "import pandas as pd\n",
        "\n",
        "#LIBRARY FOR EASY-WORKING WITH ARRAYS/MATRICES\n",
        "import numpy as np\n",
        "\n",
        "#LIBRARY FOR MATHEMATICAL FUNCTIONS\n",
        "import math"
      ]
    },
    {
      "cell_type": "markdown",
      "metadata": {
        "id": "xfrQCPAUU4L9"
      },
      "source": [
        "### **IMPORTING AND SPLITTING MNIST DATASET**"
      ]
    },
    {
      "cell_type": "code",
      "execution_count": 2,
      "metadata": {
        "colab": {
          "base_uri": "https://localhost:8080/",
          "height": 553
        },
        "id": "c4C5f5FpUeRV",
        "outputId": "d0a3820b-c639-480a-95f5-ac59dd69546a"
      },
      "outputs": [],
      "source": [
        "import tensorflow as tf\n",
        "\n",
        "(X_train, Y_train), (X_test, Y_test) = tf.keras.datasets.mnist.load_data()"
      ]
    },
    {
      "cell_type": "code",
      "execution_count": 3,
      "metadata": {},
      "outputs": [],
      "source": [
        "#CONVERTING THE X-Y-TRAIN-TEST DATA TO NUMPY ARRAYS FOR EASY MANIPULATION\n",
        "X_train = np.array(X_train)\n",
        "X_test = np.array(X_test)\n",
        "Y_train = np.array(Y_train)\n",
        "Y_test = np.array(Y_test)"
      ]
    },
    {
      "cell_type": "markdown",
      "metadata": {
        "id": "b2TqJxRBiDVZ"
      },
      "source": [
        "### **NORMALISING PIXEL VALUES FROM 0-1**"
      ]
    },
    {
      "cell_type": "code",
      "execution_count": 4,
      "metadata": {},
      "outputs": [],
      "source": [
        "#NORMALISING THE PIXEL VALUES FROM 0-255 to 0.00-1.00\n",
        "X_train = X_train/255\n",
        "X_test = X_test/255"
      ]
    },
    {
      "cell_type": "markdown",
      "metadata": {
        "id": "o3Mbm6YAkf7X"
      },
      "source": [
        "### **DIGIT_PLOTTING FUNCTION**"
      ]
    },
    {
      "cell_type": "code",
      "execution_count": 5,
      "metadata": {
        "id": "HwUYSlmdi0wv"
      },
      "outputs": [],
      "source": [
        "#FUNCTION THAT TAKES IN A DATAFRAME AND ONE OF ITS INDEX TO PLOT THE DIGIT PIXELS AT THE INDEX\n",
        "def digit_plotter(dataframe, index):\n",
        "  #RESHAPING AN ARRAY OF 784 ELEMENTS INTO 28x28 MATRIX\n",
        "  matrix = np.reshape(dataframe[index], (28, 28))\n",
        "  #PLOt-SIZING TO 5x5\n",
        "  plt.figure(figsize = (5,4))\n",
        "  #PLOT TITLE\n",
        "  plt.title('Index-{}'.format(index))\n",
        "  #PLOTTING THE PIXELS OF THE MATRIX\n",
        "  sns.heatmap(data = matrix, cmap = 'Greys_r')\n",
        "  #ENDING THE PLOT\n",
        "  plt.show()"
      ]
    },
    {
      "cell_type": "code",
      "execution_count": 6,
      "metadata": {
        "colab": {
          "base_uri": "https://localhost:8080/",
          "height": 336
        },
        "id": "Tgv5ELrejt77",
        "outputId": "9712e659-6416-4b6d-84b6-3250e1dd577b"
      },
      "outputs": [
        {
          "data": {
            "image/png": "[encoded data removed]",
            "text/plain": [
              "<Figure size 360x288 with 2 Axes>"
            ]
          },
          "metadata": {
            "needs_background": "light"
          },
          "output_type": "display_data"
        }
      ],
      "source": [
        "#TESTING THE DIGIT PLOTTING FUNCTION AT TRAINING_DATA INDEX-4\n",
        "digit_plotter(X_train, 4)"
      ]
    },
    {
      "cell_type": "code",
      "execution_count": 7,
      "metadata": {},
      "outputs": [
        {
          "data": {
            "text/plain": [
              "array([5, 0, 4, ..., 5, 6, 8], dtype=uint8)"
            ]
          },
          "execution_count": 7,
          "metadata": {},
          "output_type": "execute_result"
        }
      ],
      "source": [
        "Y_train"
      ]
    },
    {
      "cell_type": "markdown",
      "metadata": {
        "id": "8RkAPoWvkpRt"
      },
      "source": [
        "### **TRAINING NEURAL NETWORK TO CLASSIFY THE DIGITS**"
      ]
    },
    {
      "cell_type": "code",
      "execution_count": 9,
      "metadata": {
        "id": "Zkz7ZuEJkof8"
      },
      "outputs": [
        {
          "name": "stdout",
          "output_type": "stream",
          "text": [
            "Epoch 1/30\n",
            "1875/1875 [==============================] - 64s 33ms/step - loss: 0.1797 - accuracy: 0.9440 - val_loss: 0.0724 - val_accuracy: 0.9752\n",
            "Epoch 2/30\n",
            "1875/1875 [==============================] - 64s 34ms/step - loss: 0.0548 - accuracy: 0.9827 - val_loss: 0.0446 - val_accuracy: 0.9838\n",
            "Epoch 3/30\n",
            "1875/1875 [==============================] - 63s 34ms/step - loss: 0.0381 - accuracy: 0.9881 - val_loss: 0.0324 - val_accuracy: 0.9892\n",
            "Epoch 4/30\n",
            "1875/1875 [==============================] - 64s 34ms/step - loss: 0.0305 - accuracy: 0.9903 - val_loss: 0.0326 - val_accuracy: 0.9882\n",
            "Epoch 5/30\n",
            "1875/1875 [==============================] - 60s 32ms/step - loss: 0.0242 - accuracy: 0.9922 - val_loss: 0.0401 - val_accuracy: 0.9875\n",
            "Epoch 6/30\n",
            "1875/1875 [==============================] - 61s 33ms/step - loss: 0.0192 - accuracy: 0.9934 - val_loss: 0.0314 - val_accuracy: 0.9906\n",
            "Epoch 7/30\n",
            "1875/1875 [==============================] - 63s 34ms/step - loss: 0.0171 - accuracy: 0.9946 - val_loss: 0.0370 - val_accuracy: 0.9902\n",
            "Epoch 8/30\n",
            "1875/1875 [==============================] - 62s 33ms/step - loss: 0.0149 - accuracy: 0.9951 - val_loss: 0.0472 - val_accuracy: 0.9871\n",
            "Epoch 9/30\n",
            "1875/1875 [==============================] - 60s 32ms/step - loss: 0.0119 - accuracy: 0.9959 - val_loss: 0.0356 - val_accuracy: 0.9900\n",
            "Epoch 10/30\n",
            "1875/1875 [==============================] - 61s 33ms/step - loss: 0.0108 - accuracy: 0.9962 - val_loss: 0.0422 - val_accuracy: 0.9898\n",
            "Epoch 11/30\n",
            "1875/1875 [==============================] - 62s 33ms/step - loss: 0.0089 - accuracy: 0.9973 - val_loss: 0.0504 - val_accuracy: 0.9893\n",
            "Epoch 12/30\n",
            "1875/1875 [==============================] - 63s 34ms/step - loss: 0.0093 - accuracy: 0.9971 - val_loss: 0.0460 - val_accuracy: 0.9899\n",
            "Epoch 13/30\n",
            "1875/1875 [==============================] - 64s 34ms/step - loss: 0.0087 - accuracy: 0.9973 - val_loss: 0.0418 - val_accuracy: 0.9907\n",
            "Epoch 14/30\n",
            "1875/1875 [==============================] - 63s 34ms/step - loss: 0.0071 - accuracy: 0.9977 - val_loss: 0.0483 - val_accuracy: 0.9891\n",
            "Epoch 15/30\n",
            "1875/1875 [==============================] - 63s 33ms/step - loss: 0.0068 - accuracy: 0.9976 - val_loss: 0.0509 - val_accuracy: 0.9881\n",
            "Epoch 16/30\n",
            "1875/1875 [==============================] - 63s 33ms/step - loss: 0.0060 - accuracy: 0.9981 - val_loss: 0.0548 - val_accuracy: 0.9895\n",
            "Epoch 17/30\n",
            "1875/1875 [==============================] - 62s 33ms/step - loss: 0.0082 - accuracy: 0.9973 - val_loss: 0.0497 - val_accuracy: 0.9885\n",
            "Epoch 18/30\n",
            "1875/1875 [==============================] - 59s 31ms/step - loss: 0.0052 - accuracy: 0.9982 - val_loss: 0.0535 - val_accuracy: 0.9897\n",
            "Epoch 19/30\n",
            "1875/1875 [==============================] - 64s 34ms/step - loss: 0.0052 - accuracy: 0.9982 - val_loss: 0.0505 - val_accuracy: 0.9905\n",
            "Epoch 20/30\n",
            "1875/1875 [==============================] - 64s 34ms/step - loss: 0.0060 - accuracy: 0.9981 - val_loss: 0.0459 - val_accuracy: 0.9914\n",
            "Epoch 21/30\n",
            "1875/1875 [==============================] - 59s 32ms/step - loss: 0.0048 - accuracy: 0.9989 - val_loss: 0.0536 - val_accuracy: 0.9898\n",
            "Epoch 22/30\n",
            "1875/1875 [==============================] - 58s 31ms/step - loss: 0.0047 - accuracy: 0.9984 - val_loss: 0.0510 - val_accuracy: 0.9905\n",
            "Epoch 23/30\n",
            "1875/1875 [==============================] - 59s 31ms/step - loss: 0.0071 - accuracy: 0.9979 - val_loss: 0.0649 - val_accuracy: 0.9897\n",
            "Epoch 24/30\n",
            "1875/1875 [==============================] - 58s 31ms/step - loss: 0.0040 - accuracy: 0.9989 - val_loss: 0.0681 - val_accuracy: 0.9887\n",
            "Epoch 25/30\n",
            "1875/1875 [==============================] - 59s 31ms/step - loss: 0.0042 - accuracy: 0.9987 - val_loss: 0.0631 - val_accuracy: 0.9894\n",
            "Epoch 26/30\n",
            "1875/1875 [==============================] - 56s 30ms/step - loss: 0.0049 - accuracy: 0.9984 - val_loss: 0.0657 - val_accuracy: 0.9886\n",
            "Epoch 27/30\n",
            "1875/1875 [==============================] - 54s 29ms/step - loss: 0.0046 - accuracy: 0.9985 - val_loss: 0.0827 - val_accuracy: 0.9875\n",
            "Epoch 28/30\n",
            "1875/1875 [==============================] - 52s 28ms/step - loss: 0.0061 - accuracy: 0.9984 - val_loss: 0.0667 - val_accuracy: 0.9894\n",
            "Epoch 29/30\n",
            "1875/1875 [==============================] - 53s 28ms/step - loss: 0.0036 - accuracy: 0.9989 - val_loss: 0.0827 - val_accuracy: 0.9883\n",
            "Epoch 30/30\n",
            "1875/1875 [==============================] - 50s 27ms/step - loss: 0.0034 - accuracy: 0.9989 - val_loss: 0.0749 - val_accuracy: 0.9908\n"
          ]
        },
        {
          "data": {
            "text/plain": [
              "<keras.callbacks.History at 0x239a6e8e890>"
            ]
          },
          "execution_count": 9,
          "metadata": {},
          "output_type": "execute_result"
        }
      ],
      "source": [
        "import tensorflow as tf\n",
        "\n",
        "model = tf.keras.Sequential([\n",
        "    tf.keras.layers.Conv2D(filters=32, input_shape=(28,28,1), kernel_size=(3,3), activation = 'relu', padding=\"same\", strides=1),\n",
        "    tf.keras.layers.MaxPooling2D(pool_size=(2,2)),\n",
        "    tf.keras.layers.Conv2D(filters=16, kernel_size=(3,3), activation = 'relu', padding=\"same\", strides=1),\n",
        "    tf.keras.layers.MaxPooling2D(pool_size=(2,2)),\n",
        "    tf.keras.layers.Flatten(),\n",
        "    tf.keras.layers.Dense(100, activation='relu'),\n",
        "    tf.keras.layers.Dense(64, activation='relu'),\n",
        "    tf.keras.layers.Dense(10, activation='sigmoid'),        \n",
        "])\n",
        "\n",
        "model.compile(optimizer = 'adam',\n",
        "    loss = 'sparse_categorical_crossentropy',\n",
        "    metrics = ['accuracy']\n",
        ")\n",
        "\n",
        "model.fit(X_train, Y_train, epochs=30, validation_data=(X_test, Y_test))"
      ]
    },
    {
      "cell_type": "markdown",
      "metadata": {},
      "source": [
        "### **CLASSIFICATION REPORT**"
      ]
    },
    {
      "cell_type": "code",
      "execution_count": 10,
      "metadata": {},
      "outputs": [
        {
          "name": "stdout",
          "output_type": "stream",
          "text": [
            "313/313 [==============================] - 5s 12ms/step\n"
          ]
        }
      ],
      "source": [
        "actual = Y_test\n",
        "predictions = np.array(list(map(np.argmax, model.predict(X_test))))"
      ]
    },
    {
      "cell_type": "code",
      "execution_count": 11,
      "metadata": {},
      "outputs": [
        {
          "name": "stdout",
          "output_type": "stream",
          "text": [
            "\tDIGIT-0\n",
            "Accuracy Score:\t\t 99.92%\n",
            "Precision Score:\t 99.29%\n",
            "Recall Score:\t\t 99.9%\n",
            "F1 Score:\t\t 99.59%\n",
            "\n",
            "\tDIGIT-1\n",
            "Accuracy Score:\t\t 99.89%\n",
            "Precision Score:\t 99.56%\n",
            "Recall Score:\t\t 99.47%\n",
            "F1 Score:\t\t 99.52%\n",
            "\n",
            "\tDIGIT-2\n",
            "Accuracy Score:\t\t 99.82%\n",
            "Precision Score:\t 98.84%\n",
            "Recall Score:\t\t 99.42%\n",
            "F1 Score:\t\t 99.13%\n",
            "\n",
            "\tDIGIT-3\n",
            "Accuracy Score:\t\t 99.76%\n",
            "Precision Score:\t 97.96%\n",
            "Recall Score:\t\t 99.7%\n",
            "F1 Score:\t\t 98.82%\n",
            "\n",
            "\tDIGIT-4\n",
            "Accuracy Score:\t\t 99.84%\n",
            "Precision Score:\t 99.39%\n",
            "Recall Score:\t\t 98.98%\n",
            "F1 Score:\t\t 99.18%\n",
            "\n",
            "\tDIGIT-5\n",
            "Accuracy Score:\t\t 99.79%\n",
            "Precision Score:\t 99.21%\n",
            "Recall Score:\t\t 98.43%\n",
            "F1 Score:\t\t 98.82%\n",
            "\n",
            "\tDIGIT-6\n",
            "Accuracy Score:\t\t 99.85%\n",
            "Precision Score:\t 99.17%\n",
            "Recall Score:\t\t 99.27%\n",
            "F1 Score:\t\t 99.22%\n",
            "\n",
            "\tDIGIT-7\n",
            "Accuracy Score:\t\t 99.81%\n",
            "Precision Score:\t 99.22%\n",
            "Recall Score:\t\t 98.93%\n",
            "F1 Score:\t\t 99.07%\n",
            "\n",
            "\tDIGIT-8\n",
            "Accuracy Score:\t\t 99.8%\n",
            "Precision Score:\t 99.28%\n",
            "Recall Score:\t\t 98.67%\n",
            "F1 Score:\t\t 98.97%\n",
            "\n"
          ]
        }
      ],
      "source": [
        "from sklearn.metrics import accuracy_score, precision_score, f1_score, recall_score, confusion_matrix\n",
        "\n",
        "for i in range(0, 9):\n",
        "    actual_digit = (actual == i)\n",
        "    predict_digit = (predictions == i)\n",
        "    print('\\tDIGIT-{}'.format(i))\n",
        "    print('Accuracy Score:\\t\\t {}%'.format(round(100*accuracy_score(actual_digit, predict_digit), 2)))\n",
        "    print('Precision Score:\\t {}%'.format(round(100*precision_score(actual_digit, predict_digit), 2)))\n",
        "    print('Recall Score:\\t\\t {}%'.format(round(100*recall_score(actual_digit, predict_digit), 2)))\n",
        "    print('F1 Score:\\t\\t {}%'.format(round(100*f1_score(actual_digit, predict_digit), 2)))\n",
        "    print()"
      ]
    },
    {
      "cell_type": "code",
      "execution_count": 12,
      "metadata": {},
      "outputs": [
        {
          "data": {
            "image/png": "[encoded data removed]",
            "text/plain": [
              "<Figure size 720x504 with 2 Axes>"
            ]
          },
          "metadata": {
            "needs_background": "light"
          },
          "output_type": "display_data"
        }
      ],
      "source": [
        "plt.figure(figsize=(10, 7))\n",
        "plt.title('Confusion Matrix')\n",
        "sns.heatmap(confusion_matrix(actual, predictions), cmap='Greys_r', annot=True)\n",
        "plt.show()"
      ]
    },
    {
      "cell_type": "markdown",
      "metadata": {},
      "source": [
        "### **FUNCTION TO PREDICT DIGIT BASED ON IMAGE (WRITTEN IN FILEPATH)**"
      ]
    },
    {
      "cell_type": "code",
      "execution_count": 29,
      "metadata": {},
      "outputs": [
        {
          "name": "stdout",
          "output_type": "stream",
          "text": [
            "1/1 [==============================] - 0s 26ms/step\n"
          ]
        },
        {
          "data": {
            "image/png": "[encoded data removed]",
            "text/plain": [
              "<PIL.Image.Image image mode=RGBA size=64x64>"
            ]
          },
          "metadata": {},
          "output_type": "display_data"
        },
        {
          "name": "stdout",
          "output_type": "stream",
          "text": [
            "PREDICTED DIGIT: 7\n",
            "1/1 [==============================] - 0s 26ms/step\n"
          ]
        },
        {
          "data": {
            "image/png": "[encoded data removed]",
            "text/plain": [
              "<PIL.Image.Image image mode=RGBA size=64x64>"
            ]
          },
          "metadata": {},
          "output_type": "display_data"
        },
        {
          "name": "stdout",
          "output_type": "stream",
          "text": [
            "PREDICTED DIGIT: 3\n",
            "1/1 [==============================] - 0s 42ms/step\n"
          ]
        },
        {
          "data": {
            "image/png": "[encoded data removed]",
            "text/plain": [
              "<PIL.Image.Image image mode=RGBA size=64x64>"
            ]
          },
          "metadata": {},
          "output_type": "display_data"
        },
        {
          "name": "stdout",
          "output_type": "stream",
          "text": [
            "PREDICTED DIGIT: 5\n",
            "1/1 [==============================] - 0s 33ms/step\n"
          ]
        },
        {
          "data": {
            "image/png": "[encoded data removed]",
            "text/plain": [
              "<PIL.Image.Image image mode=RGBA size=64x64>"
            ]
          },
          "metadata": {},
          "output_type": "display_data"
        },
        {
          "name": "stdout",
          "output_type": "stream",
          "text": [
            "PREDICTED DIGIT: 4\n",
            "1/1 [==============================] - 0s 19ms/step\n"
          ]
        },
        {
          "data": {
            "image/png": "[encoded data removed]",
            "text/plain": [
              "<PIL.Image.Image image mode=RGBA size=64x64>"
            ]
          },
          "metadata": {},
          "output_type": "display_data"
        },
        {
          "name": "stdout",
          "output_type": "stream",
          "text": [
            "PREDICTED DIGIT: 5\n",
            "1/1 [==============================] - 0s 18ms/step\n"
          ]
        },
        {
          "data": {
            "image/png": "[encoded data removed]",
            "text/plain": [
              "<PIL.Image.Image image mode=RGBA size=64x64>"
            ]
          },
          "metadata": {},
          "output_type": "display_data"
        },
        {
          "name": "stdout",
          "output_type": "stream",
          "text": [
            "PREDICTED DIGIT: 9\n",
            "1/1 [==============================] - 0s 35ms/step\n"
          ]
        },
        {
          "data": {
            "image/png": "[encoded data removed]",
            "text/plain": [
              "<PIL.Image.Image image mode=RGBA size=64x64>"
            ]
          },
          "metadata": {},
          "output_type": "display_data"
        },
        {
          "name": "stdout",
          "output_type": "stream",
          "text": [
            "PREDICTED DIGIT: 3\n",
            "1/1 [==============================] - 0s 31ms/step\n"
          ]
        },
        {
          "data": {
            "image/png": "[encoded data removed]",
            "text/plain": [
              "<PIL.Image.Image image mode=RGBA size=64x64>"
            ]
          },
          "metadata": {},
          "output_type": "display_data"
        },
        {
          "name": "stdout",
          "output_type": "stream",
          "text": [
            "PREDICTED DIGIT: 0\n",
            "1/1 [==============================] - 0s 19ms/step\n"
          ]
        },
        {
          "data": {
            "image/png": "[encoded data removed]",
            "text/plain": [
              "<PIL.Image.Image image mode=RGBA size=64x64>"
            ]
          },
          "metadata": {},
          "output_type": "display_data"
        },
        {
          "name": "stdout",
          "output_type": "stream",
          "text": [
            "PREDICTED DIGIT: 1\n",
            "1/1 [==============================] - 0s 31ms/step\n"
          ]
        },
        {
          "data": {
            "image/png": "[encoded data removed]",
            "text/plain": [
              "<PIL.Image.Image image mode=RGBA size=64x64>"
            ]
          },
          "metadata": {},
          "output_type": "display_data"
        },
        {
          "name": "stdout",
          "output_type": "stream",
          "text": [
            "PREDICTED DIGIT: 2\n"
          ]
        }
      ],
      "source": [
        "import tensorflow as tf\n",
        "import pickle\n",
        "import PIL\n",
        "import numpy as np\n",
        "\n",
        "def digit_identifier(filepath):\n",
        "    image = PIL.Image.open(filepath)\n",
        "    image_resized = image.resize((28, 28))\n",
        "    image_greyscale = PIL.ImageOps.grayscale(image_resized)\n",
        "    image_matrix = np.array(image_greyscale)\n",
        "    prediction = np.argmax(model.predict(np.array([image_matrix])))\n",
        "    display(image.resize((64, 64)))\n",
        "    print('PREDICTED DIGIT:', prediction)\n",
        "    return prediction\n",
        "for i in range(10):\n",
        "    digit_identifier('sample{}.png'.format(i))"
      ]
    }
  ],
  "metadata": {
    "colab": {
      "collapsed_sections": [],
      "name": "ML_Practice.ipynb",
      "provenance": []
    },
    "kernelspec": {
      "display_name": "Python 3.10.4 64-bit",
      "language": "python",
      "name": "python3"
    },
    "language_info": {
      "codemirror_mode": {
        "name": "ipython",
        "version": 3
      },
      "file_extension": ".py",
      "mimetype": "text/x-python",
      "name": "python",
      "nbconvert_exporter": "python",
      "pygments_lexer": "ipython3",
      "version": "3.10.4"
    },
    "vscode": {
      "interpreter": {
        "hash": "fb4569285eef3a3450cb62085a5b1e0da4bce0af555edc33dcf29baf3acc1368"
      }
    }
  },
  "nbformat": 4,
  "nbformat_minor": 0
}
